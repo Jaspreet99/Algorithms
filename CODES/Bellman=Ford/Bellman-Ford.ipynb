{
 "cells": [
  {
   "cell_type": "code",
   "execution_count": 4,
   "metadata": {},
   "outputs": [
    {
     "name": "stdout",
     "output_type": "stream",
     "text": [
      "Enter number of edges in the graph:- \n",
      "10\n",
      "Enter number of vertices in the graph:- \n",
      "10\n",
      "Enter weighted edges of the graph\n",
      "0 1 -1\n",
      "0 5 2\n",
      "1 2 2\n",
      "1 5 -2\n",
      "2 3 5\n",
      "2 4 1\n",
      "4 3 -4\n",
      "4 5 3\n",
      "5 1 2\n",
      "5 2 3\n",
      "Distance from source vertex 0\n",
      "Vertex \t Distance from source\n",
      "0 \t 0\n",
      "1 \t -1\n",
      "2 \t 0\n",
      "3 \t -3\n",
      "4 \t 1\n",
      "5 \t -3\n",
      "6 \t inf\n",
      "7 \t inf\n",
      "8 \t inf\n",
      "9 \t inf\n"
     ]
    }
   ],
   "source": [
    "# number of nodes in the graph\n",
    "print('Enter number of edges in the graph:- ')\n",
    "n = int(input())\n",
    "\n",
    "# number of edges in the graph\n",
    "print('Enter number of vertices in the graph:- ')\n",
    "m = int(input())\n",
    "\n",
    "# graph to contain weighted edges\n",
    "graph = []\n",
    "\n",
    "print('Enter weighted edges of the graph')\n",
    "for i in range(m):\n",
    "    u, v, w = list(map(int, input().split()))\n",
    "    graph.append([u, v, w])\n",
    "\n",
    "\n",
    "def BellmanFord(src):\n",
    "    # Initializing distance from source vertex to all vertices as INFINITE and distance of source vertex as 0\n",
    "    dist = [float(\"inf\") for i in range(n)]\n",
    "    dist[src] = 0\n",
    "    for i in range(n-1):\n",
    "        for u, v, w in graph:\n",
    "            if dist[u] != float(\"inf\") and dist[u]+w < dist[v]:\n",
    "                dist[v] = dist[u]+w\n",
    "\n",
    "    # Step 3: check for negative-weight cycles. The above step guarantees shortest distances if graph doesnt contain negative weight cycle. If we get a shorter path, then there is a cycle.\n",
    "    cycle = 0\n",
    "    for u, v, w in graph:\n",
    "        if dist[u] != float(\"Inf\") and dist[u] + w < dist[v]:\n",
    "            print(\"Graph contains negative weight cycle\")\n",
    "            cycle = 1\n",
    "            break\n",
    "    if cycle == 0:\n",
    "        print('Distance from source vertex',src)\n",
    "        print('Vertex \\t Distance from source')\n",
    "        for i in range(len(dist)):\n",
    "            print(i,'\\t',dist[i])\n",
    "\n",
    "\n",
    "BellmanFord(0)"
   ]
  },
  {
   "cell_type": "code",
   "execution_count": null,
   "metadata": {},
   "outputs": [],
   "source": []
  }
 ],
 "metadata": {
  "kernelspec": {
   "display_name": "Python 3",
   "language": "python",
   "name": "python3"
  },
  "language_info": {
   "codemirror_mode": {
    "name": "ipython",
    "version": 3
   },
   "file_extension": ".py",
   "mimetype": "text/x-python",
   "name": "python",
   "nbconvert_exporter": "python",
   "pygments_lexer": "ipython3",
   "version": "3.8.3"
  }
 },
 "nbformat": 4,
 "nbformat_minor": 4
}
