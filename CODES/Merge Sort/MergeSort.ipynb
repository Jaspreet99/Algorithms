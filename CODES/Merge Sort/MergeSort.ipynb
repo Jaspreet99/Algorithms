{
 "cells": [
  {
   "cell_type": "code",
   "execution_count": 9,
   "metadata": {},
   "outputs": [
    {
     "name": "stdout",
     "output_type": "stream",
     "text": [
      "[1, 2, 2, 3, 3, 3, 4, 5, 6, 8, 9, 10]\n"
     ]
    }
   ],
   "source": [
    "def MergeSort(sequence):\n",
    "    if len(sequence) > 1:\n",
    "        middle = len(sequence)//2\n",
    "        l = sequence[:middle]\n",
    "        r = sequence[middle:]\n",
    "        \n",
    "        MergeSort(l)\n",
    "        MergeSort(r)\n",
    "        \n",
    "        i,j,k = 0,0,0\n",
    "        \n",
    "        while i < len(l) and j < len(r):\n",
    "            if l[i] < r[j]:\n",
    "                sequence[k]=l[i]\n",
    "                i+=1\n",
    "            else:\n",
    "                sequence[k]=r[j]\n",
    "                j+=1\n",
    "            k+=1\n",
    "            \n",
    "        while i < len(l):\n",
    "            sequence[k]=l[i]\n",
    "            i+=1\n",
    "            k+=1\n",
    "                 \n",
    "        while j < len(r):\n",
    "            sequence[k]=r[j]\n",
    "            j+=1\n",
    "            k+=1\n",
    "            \n",
    "    return sequence\n",
    "#©Jaspreet Singh 18CSU094\n",
    "a= MergeSort([2,3,6,3,9,3,5,10,4,2,1,8])\n",
    "print(a)"
   ]
  },
  {
   "cell_type": "code",
   "execution_count": null,
   "metadata": {},
   "outputs": [],
   "source": []
  }
 ],
 "metadata": {
  "kernelspec": {
   "display_name": "Python 3",
   "language": "python",
   "name": "python3"
  },
  "language_info": {
   "codemirror_mode": {
    "name": "ipython",
    "version": 3
   },
   "file_extension": ".py",
   "mimetype": "text/x-python",
   "name": "python",
   "nbconvert_exporter": "python",
   "pygments_lexer": "ipython3",
   "version": "3.8.3"
  }
 },
 "nbformat": 4,
 "nbformat_minor": 4
}
