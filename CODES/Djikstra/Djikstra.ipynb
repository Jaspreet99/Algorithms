{
 "cells": [
  {
   "cell_type": "code",
   "execution_count": 1,
   "metadata": {},
   "outputs": [
    {
     "name": "stdout",
     "output_type": "stream",
     "text": [
      "Distance from source vertex Z:-\n",
      "{'Z': 0, 'V': 4, 'X': 2, 'U': 3, 'Y': 1, 'W': 2}\n"
     ]
    }
   ],
   "source": [
    "import heapq\n",
    "def dijkstra(graph, src):\n",
    "        # Initializing distance from source vertex to all vertices as INFINITE and distance of source vertex as 0\n",
    "    dist = {vertex: float('inf') for vertex in graph}\n",
    "    dist[src] = 0\n",
    "\n",
    "    pq = [(0, src)]\n",
    "    while len(pq) > 0:\n",
    "        cur_dist, cur_vertex = heapq.heappop(pq)\n",
    "        # Nodes can get added to the priority queue multiple times. We only\n",
    "        # process a vertex the first time we remove it from the priority queue.\n",
    "        if cur_dist > dist[cur_vertex]:\n",
    "            continue\n",
    "\n",
    "        for neighbor, weight in graph[cur_vertex].items():\n",
    "            distance = cur_dist + weight\n",
    "\n",
    "            # Only consider this new path if it's better than any path we've\n",
    "            # already found.\n",
    "            if distance < dist[neighbor]:\n",
    "                dist[neighbor] = distance\n",
    "                heapq.heappush(pq, (distance, neighbor))\n",
    "\n",
    "    return dist\n",
    "\n",
    "\n",
    "graph = {\n",
    "    'U': {'V': 2, 'W': 5, 'X': 1},\n",
    "    'V': {'U': 2, 'X': 2, 'W': 3},\n",
    "    'W': {'V': 3, 'U': 5, 'X': 3, 'Y': 1, 'Z': 5},\n",
    "    'X': {'U': 1, 'V': 2, 'W': 3, 'Y': 1},\n",
    "    'Y': {'X': 1, 'W': 1, 'Z': 1},\n",
    "    'Z': {'W': 5, 'Y': 1},\n",
    "}\n",
    "print('Distance from source vertex Z:-')\n",
    "print(dijkstra(graph, 'Z'))"
   ]
  },
  {
   "cell_type": "code",
   "execution_count": null,
   "metadata": {},
   "outputs": [],
   "source": []
  },
  {
   "cell_type": "code",
   "execution_count": null,
   "metadata": {},
   "outputs": [],
   "source": []
  }
 ],
 "metadata": {
  "kernelspec": {
   "display_name": "Python 3",
   "language": "python",
   "name": "python3"
  },
  "language_info": {
   "codemirror_mode": {
    "name": "ipython",
    "version": 3
   },
   "file_extension": ".py",
   "mimetype": "text/x-python",
   "name": "python",
   "nbconvert_exporter": "python",
   "pygments_lexer": "ipython3",
   "version": "3.5.6"
  }
 },
 "nbformat": 4,
 "nbformat_minor": 4
}
