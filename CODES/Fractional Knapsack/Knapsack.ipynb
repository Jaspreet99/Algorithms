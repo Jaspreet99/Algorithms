{
 "cells": [
  {
   "cell_type": "code",
   "execution_count": 2,
   "metadata": {},
   "outputs": [
    {
     "name": "stdout",
     "output_type": "stream",
     "text": [
      "n, capacity: 3 50\n",
      "value, weight: 60 20\n",
      "value, weight: 100 50\n",
      "value, weight: 120 30\n",
      "[20, 50]\n",
      "[50]\n",
      "180.0000000000\n"
     ]
    }
   ],
   "source": [
    "def knapsack(n, capacity, value_list, weight_list):\n",
    "    unitValues_list = []\n",
    "#First lets calculate the unitValues_list\n",
    "    for i in range (n):\n",
    "        unitValue = (value_list[i]/weight_list[i])\n",
    "        unitValues_list.append(unitValue)\n",
    "#Now lets fill the knapsack, intake is how much is in the bag at the moment!\n",
    "    intake = 0\n",
    "    max_value = 0\n",
    "    factor = True\n",
    "\n",
    "    while(factor):\n",
    "        max_index = unitValues_list.index(max(unitValues_list, default=0)) \n",
    "        # this gives the index of the max valued element\n",
    "\n",
    "        if(weight_list[max_index] <= capacity):\n",
    "            # In this case, full item is taken in\n",
    "            intake = weight_list[max_index]\n",
    "            capacity -= weight_list[max_index]\n",
    "            max_value += value_list[max_index]\n",
    "#©Jaspreet Singh 18CSU094\n",
    "        else:\n",
    "            # weight_list[max_index] > capacity\n",
    "            # In this case, fraction to be taken\n",
    "            fraction = capacity / weight_list[max_index] \n",
    "            max_value += value_list[max_index]*fraction\n",
    "            capacity = int(capacity - (weight_list[max_index] * fraction))\n",
    "\n",
    "        weight_list.pop(max_index)\n",
    "        value_list.pop(max_index)\n",
    "        unitValues_list.pop(max_index)\n",
    "        print(weight_list)\n",
    "\n",
    "        n -= 1 #no. of items left\n",
    "        factor = ((n != 0) if ((capacity != 0) if True else False) else False)\n",
    "\n",
    "    return max_value\n",
    "\n",
    "if __name__ == \"__main__\":\n",
    "    value_list = []\n",
    "    weight_list = []\n",
    "\n",
    "    #The first line of the input contains the number 𝑛 of items and the capacity 𝑊 of a knapsack. \n",
    "    #The next 𝑛 lines define the values and weights of the items. \n",
    "    n , capacity = map(int, input('n, capacity: ').split())\n",
    "\n",
    "    for i in range (n):\n",
    "        value , weight = map(int, input('value, weight: ').split())\n",
    "        value_list.append(value)\n",
    "        weight_list.append(weight)\n",
    "#©Jaspreet Singh 18CSU094\n",
    "    #Output the maximal value of fractions of items that fit into the knapsack.\n",
    "    print(\"{:.10f}\".format(knapsack(n, capacity, value_list, weight_list)))"
   ]
  },
  {
   "cell_type": "code",
   "execution_count": null,
   "metadata": {},
   "outputs": [],
   "source": []
  }
 ],
 "metadata": {
  "kernelspec": {
   "display_name": "Python 3",
   "language": "python",
   "name": "python3"
  },
  "language_info": {
   "codemirror_mode": {
    "name": "ipython",
    "version": 3
   },
   "file_extension": ".py",
   "mimetype": "text/x-python",
   "name": "python",
   "nbconvert_exporter": "python",
   "pygments_lexer": "ipython3",
   "version": "3.8.3"
  }
 },
 "nbformat": 4,
 "nbformat_minor": 4
}
