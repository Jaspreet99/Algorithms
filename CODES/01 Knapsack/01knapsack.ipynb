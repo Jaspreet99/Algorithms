{
 "cells": [
  {
   "cell_type": "code",
   "execution_count": 1,
   "metadata": {},
   "outputs": [
    {
     "name": "stdout",
     "output_type": "stream",
     "text": [
      "Knapsack value is 100\n"
     ]
    }
   ],
   "source": [
    "# Values (stored in list v)\n",
    "# Weights (stored in list w)\n",
    "# Number of distinct items (n)\n",
    "# Knapsack capacity W\n",
    "def knapSack(v, w, n, W):\n",
    "\n",
    "\t# base case: Negative capacity\n",
    "\tif W < 0:\n",
    "\t\treturn float('-inf')\n",
    "\n",
    "\t# base case: no items left or capacity becomes 0\n",
    "\tif n < 0 or W == 0:\n",
    "\t\treturn 0\n",
    "\n",
    "\t# Case 1. include current item n in Knapsack (v[n]) and recur for\n",
    "\t# remaining items (n - 1) with decreased capacity (W - w[n])\n",
    "\tinclude = v[n] + knapSack(v, w, n - 1, W - w[n])\n",
    "\n",
    "\t# Case 2. exclude current item n from Knapsack and recur for\n",
    "\t# remaining items (n - 1)\n",
    "\texclude = knapSack(v, w, n - 1, W)\n",
    "\n",
    "\t# return maximum value we get by including or excluding current item\n",
    "\treturn max(include, exclude)\n",
    "\n",
    "\n",
    "# 0-1 Knapsack problem\n",
    "if __name__ == '__main__':\n",
    "\n",
    "\t# Input: set of items each with a weight and a value\n",
    "\tv = [10, 20, 60, 40]\n",
    "\tw = [3, 2, 4, 1]\n",
    "\n",
    "\t# Knapsack capacity\n",
    "\tW = 5\n",
    "\n",
    "\tprint(\"Knapsack value is\", knapSack(v, w, len(v) - 1, W))"
   ]
  },
  {
   "cell_type": "code",
   "execution_count": null,
   "metadata": {},
   "outputs": [],
   "source": []
  }
 ],
 "metadata": {
  "kernelspec": {
   "display_name": "Python 3",
   "language": "python",
   "name": "python3"
  },
  "language_info": {
   "codemirror_mode": {
    "name": "ipython",
    "version": 3
   },
   "file_extension": ".py",
   "mimetype": "text/x-python",
   "name": "python",
   "nbconvert_exporter": "python",
   "pygments_lexer": "ipython3",
   "version": "3.8.3"
  }
 },
 "nbformat": 4,
 "nbformat_minor": 4
}
