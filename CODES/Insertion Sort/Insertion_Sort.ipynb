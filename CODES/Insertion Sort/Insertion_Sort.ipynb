{
 "cells": [
  {
   "cell_type": "code",
   "execution_count": 1,
   "metadata": {},
   "outputs": [
    {
     "name": "stdout",
     "output_type": "stream",
     "text": [
      "[10, 20, 30, 40]\n"
     ]
    }
   ],
   "source": [
    "def insertion_sort(list_a):\n",
    "    indexing_length = range(1, len(list_a))\n",
    "    for i in indexing_length:\n",
    "        value_to_sort = list_a[i]\n",
    "\n",
    "        while list_a[i-1] > value_to_sort and i>0:\n",
    "            list_a[i], list_a[i-1] = list_a[i-1], list_a[i]\n",
    "            i = i -1\n",
    "#©Jaspreet Singh 18CSU094\n",
    "    return list_a\n",
    "print(insertion_sort([10,40,30,20]))"
   ]
  },
  {
   "cell_type": "code",
   "execution_count": null,
   "metadata": {},
   "outputs": [],
   "source": []
  },
  {
   "cell_type": "code",
   "execution_count": null,
   "metadata": {},
   "outputs": [],
   "source": []
  }
 ],
 "metadata": {
  "kernelspec": {
   "display_name": "Python 3",
   "language": "python",
   "name": "python3"
  },
  "language_info": {
   "codemirror_mode": {
    "name": "ipython",
    "version": 3
   },
   "file_extension": ".py",
   "mimetype": "text/x-python",
   "name": "python",
   "nbconvert_exporter": "python",
   "pygments_lexer": "ipython3",
   "version": "3.8.3"
  }
 },
 "nbformat": 4,
 "nbformat_minor": 4
}