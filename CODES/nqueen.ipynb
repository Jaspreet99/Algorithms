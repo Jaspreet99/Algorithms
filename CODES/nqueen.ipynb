{
 "cells": [
  {
   "cell_type": "code",
   "execution_count": 2,
   "metadata": {},
   "outputs": [
    {
     "name": "stdout",
     "output_type": "stream",
     "text": [
      "- Q - - \n",
      "- - - Q \n",
      "Q - - - \n",
      "- - Q - \n",
      "\n",
      "- - Q - \n",
      "Q - - - \n",
      "- - - Q \n",
      "- Q - - \n",
      "\n"
     ]
    }
   ],
   "source": [
    "def isSafe(mat, r, c):\n",
    "\n",
    "    # return false if two queens share the same column\n",
    "    for i in range(r):\n",
    "        if mat[i][c] == 'Q':\n",
    "            return False\n",
    "\n",
    "    # return false if two queens share the same \\ diagonal\n",
    "    (i, j) = (r, c)\n",
    "    while i >= 0 and j >= 0:\n",
    "        if mat[i][j] == 'Q':\n",
    "            return False\n",
    "        i = i - 1\n",
    "        j = j - 1\n",
    "\n",
    "    # return false if two queens share the same / diagonal\n",
    "    (i, j) = (r, c)\n",
    "    while i >= 0 and j < N:\n",
    "        if mat[i][j] == 'Q':\n",
    "            return False\n",
    "        i = i - 1\n",
    "        j = j + 1\n",
    "\n",
    "    return True\n",
    "\n",
    "\n",
    "def nQueen(mat, r):\n",
    "\n",
    "    # if N queens are placed successfully, print the solution\n",
    "    if r == N:\n",
    "        for i in range(N):\n",
    "            for j in range(N):\n",
    "                print(mat[i][j], end=' ')\n",
    "            print()\n",
    "        print()\n",
    "\n",
    "        return\n",
    "\n",
    "    # place Queen at every square in current row r\n",
    "    # and recur for each valid movement\n",
    "    for i in range(N):\n",
    "\n",
    "        # if no two queens threaten each other\n",
    "        if isSafe(mat, r, i):\n",
    "            # place queen on current square\n",
    "            mat[r][i] = 'Q'\n",
    "\n",
    "            # recur for next row\n",
    "            nQueen(mat, r + 1)\n",
    "\n",
    "            # backtrack and remove queen from current square\n",
    "            mat[r][i] = '-'\n",
    "\n",
    "\n",
    "if __name__ == '__main__':\n",
    "\n",
    "    # N x N chessboard\n",
    "    N = 4\n",
    "\n",
    "    # mat[][] keeps track of position of Queens in\n",
    "    # the current configuration\n",
    "    mat = [['-' for x in range(N)] for y in range(N)]\n",
    "\n",
    "    nQueen(mat, 0)"
   ]
  },
  {
   "cell_type": "code",
   "execution_count": null,
   "metadata": {},
   "outputs": [],
   "source": []
  }
 ],
 "metadata": {
  "kernelspec": {
   "display_name": "Python 3",
   "language": "python",
   "name": "python3"
  },
  "language_info": {
   "codemirror_mode": {
    "name": "ipython",
    "version": 3
   },
   "file_extension": ".py",
   "mimetype": "text/x-python",
   "name": "python",
   "nbconvert_exporter": "python",
   "pygments_lexer": "ipython3",
   "version": "3.8.3"
  }
 },
 "nbformat": 4,
 "nbformat_minor": 4
}
