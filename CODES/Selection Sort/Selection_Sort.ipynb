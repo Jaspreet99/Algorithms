{
 "cells": [
  {
   "cell_type": "code",
   "execution_count": 1,
   "metadata": {},
   "outputs": [
    {
     "name": "stdout",
     "output_type": "stream",
     "text": [
      "[0, 1, 2, 3, 5, 7, 7, 8, 9, 10]\n"
     ]
    }
   ],
   "source": [
    "def selection_sort(list_a):\n",
    "    indexing_length = range(0, len(list_a)-1)\n",
    "    \n",
    "    for i in indexing_length:\n",
    "        min_value = i\n",
    "        \n",
    "        for j in range(i+1, len(list_a)):\n",
    "            if list_a[j] < list_a[min_value]:\n",
    "                min_value = j\n",
    "        if min_value != i:\n",
    "            list_a[min_value], list_a[i] = list_a[i], list_a[min_value]\n",
    "     #©Jaspreet Singh 18CSU094       \n",
    "    return list_a\n",
    "print(selection_sort([9,0,2,5,3,7,1,7,10,8]))"
   ]
  },
  {
   "cell_type": "code",
   "execution_count": 1,
   "metadata": {},
   "outputs": [],
   "source": []
  }
 ],
 "metadata": {
  "kernelspec": {
   "display_name": "Python 3",
   "language": "python",
   "name": "python3"
  },
  "language_info": {
   "codemirror_mode": {
    "name": "ipython",
    "version": 3
   },
   "file_extension": ".py",
   "mimetype": "text/x-python",
   "name": "python",
   "nbconvert_exporter": "python",
   "pygments_lexer": "ipython3",
   "version": "3.8.3"
  }
 },
 "nbformat": 4,
 "nbformat_minor": 4
}